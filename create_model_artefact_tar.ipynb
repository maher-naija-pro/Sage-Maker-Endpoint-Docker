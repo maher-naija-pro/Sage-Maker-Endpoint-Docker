{
 "cells": [
  {
   "cell_type": "code",
   "execution_count": 15,
   "id": "c3c7b774-bb85-4cf7-9f1e-e6228f5514b6",
   "metadata": {},
   "outputs": [],
   "source": [
    "import boto3\n",
    "import json\n",
    "import time\n",
    "\n",
    "AWS_REGION = 'us-east-1'# Specify your Region\n",
    "bucket = 'youree-dev-model'\n",
    "\n",
    "sagemaker_client = boto3.client('sagemaker', region_name=AWS_REGION)\n",
    "iot_client = boto3.client('iot', region_name=AWS_REGION)"
   ]
  },
  {
   "cell_type": "code",
   "execution_count": 14,
   "id": "3b7993a1-7be9-4f50-ae6a-75b5857ad53f",
   "metadata": {},
   "outputs": [
    {
     "name": "stdout",
     "output_type": "stream",
     "text": [
      "WARNING:tensorflow:Compiled the loaded model, but the compiled metrics have yet to be built. `model.compile_metrics` will be empty until you train or evaluate the model.\n"
     ]
    }
   ],
   "source": [
    "   import tensorflow as tf\n",
    "   model = tf.keras.applications.MobileNetV2()\n",
    "   model.save(\"mobilenet_v2.h5\")"
   ]
  },
  {
   "cell_type": "code",
   "execution_count": 18,
   "id": "cf628905-3fea-4f59-ac0f-4aa47ac77609",
   "metadata": {},
   "outputs": [],
   "source": [
    "   import tarfile\n",
    "   \n",
    "   tarfile_name='mobilenet_v2.tar.gz'\n",
    "   \n",
    "   with tarfile.open(tarfile_name, mode='w:gz') as archive:\n",
    "       archive.add('mobilenet_v2.h5')"
   ]
  },
  {
   "cell_type": "code",
   "execution_count": 20,
   "id": "b9a3180c-966a-46b8-90e4-4abf8e9b0f82",
   "metadata": {},
   "outputs": [
    {
     "name": "stdout",
     "output_type": "stream",
     "text": [
      "upload: ./mobilenet_v2.tar.gz to s3://youree-dev-model/models/mobilenet_v2.tar.gz\n"
     ]
    }
   ],
   "source": [
    "!aws s3 cp mobilenet_v2.tar.gz s3://{bucket}/models/\n"
   ]
  },
  {
   "cell_type": "code",
   "execution_count": null,
   "id": "a9def0d5-4aec-4fb0-8b16-5cae59265b74",
   "metadata": {},
   "outputs": [],
   "source": []
  },
  {
   "cell_type": "code",
   "execution_count": null,
   "id": "0f2b821f-9d47-43e0-a138-eac2f511ebfe",
   "metadata": {},
   "outputs": [],
   "source": []
  }
 ],
 "metadata": {
  "kernelspec": {
   "display_name": "conda_tensorflow2_p310",
   "language": "python",
   "name": "conda_tensorflow2_p310"
  },
  "language_info": {
   "codemirror_mode": {
    "name": "ipython",
    "version": 3
   },
   "file_extension": ".py",
   "mimetype": "text/x-python",
   "name": "python",
   "nbconvert_exporter": "python",
   "pygments_lexer": "ipython3",
   "version": "3.10.6"
  }
 },
 "nbformat": 4,
 "nbformat_minor": 5
}
